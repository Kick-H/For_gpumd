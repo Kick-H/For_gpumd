{
 "cells": [
  {
   "cell_type": "code",
   "execution_count": 37,
   "metadata": {
    "collapsed": true
   },
   "outputs": [],
   "source": [
    "Nzig=20\n",
    "Narm=10"
   ]
  },
  {
   "cell_type": "markdown",
   "metadata": {},
   "source": [
    "Set the number of black phosphorus super-cell in the armchair and zigzag directions."
   ]
  },
  {
   "cell_type": "code",
   "execution_count": 38,
   "metadata": {},
   "outputs": [],
   "source": [
    "natom=Nzig*Narm*4\n",
    "mass=31.0\n",
    "lat_zig=3.284 ; lat_arm=4.590"
   ]
  },
  {
   "cell_type": "markdown",
   "metadata": {},
   "source": [
    "Set the lattice constant of double driections."
   ]
  },
  {
   "cell_type": "code",
   "execution_count": 39,
   "metadata": {
    "collapsed": true
   },
   "outputs": [],
   "source": [
    "b1=0.8089 ; b2=lat_arm/2-b1 ; h=2.1090\n",
    "unitcell=[[0.,0.,lat_zig/2,lat_zig/2],[b2,lat_arm/2,0.,lat_arm-b1],[0.,h,0.,h]]\n",
    "typecell=[0,1,0,1]\n",
    "Lx=Nzig*lat_zig ; Ly=Narm*lat_arm ; Lz=5.25"
   ]
  },
  {
   "cell_type": "markdown",
   "metadata": {},
   "source": [
    "Define the length and width of box.\n",
    "Set the layer distance of black phosphorus."
   ]
  },
  {
   "cell_type": "code",
   "execution_count": 40,
   "metadata": {
    "collapsed": true
   },
   "outputs": [],
   "source": [
    "fgpumd=open('xyz.in','w') ; fxyz=open('vmd.xyz','w')\n",
    "print(natom,3,2.8,file=fgpumd) ; print(natom,file=fxyz)"
   ]
  },
  {
   "cell_type": "markdown",
   "metadata": {},
   "source": [
    "Set the neighbor bin and cut off distance in file fgpumd."
   ]
  },
  {
   "cell_type": "code",
   "execution_count": 41,
   "metadata": {
    "collapsed": true
   },
   "outputs": [],
   "source": [
    "print(1,1,1,Lx,Ly,Lz,file=fgpumd) ; print('',file=fxyz)\n",
    "\n",
    "xyz=[] ; type=[] ; label=[0 for i in range(natom)]\n",
    "for nx in range(Nzig):\n",
    "    for ny in range(Narm):\n",
    "        for i in range(4):\n",
    "            x=nx*lat_zig+unitcell[0][i]\n",
    "            y=ny*lat_arm+unitcell[1][i]\n",
    "            z=unitcell[2][i]\n",
    "            xyz.append([x,y,z])\n",
    "            type.append(typecell[i])\n",
    "\n",
    "for n in range(natom):\n",
    "    label[n]=int(xyz[n][0]*5/Lx)\n",
    "\n",
    "for n in range(natom):\n",
    "    print(type[n],label[n],mass,xyz[n][0],xyz[n][1],xyz[n][2],file=fgpumd)\n",
    "    print(label[n],xyz[n][0],xyz[n][1],xyz[n][2],file=fxyz)"
   ]
  },
  {
   "cell_type": "markdown",
   "metadata": {},
   "source": [
    "The above loop realizes the grouping function in the X direction. In the solution process of the NEMD method, it is necessary to group the models, then perform temperature control on a specific group, and solve the temperature of other groups to obtain a temperature gradient."
   ]
  },
  {
   "cell_type": "code",
   "execution_count": 42,
   "metadata": {},
   "outputs": [],
   "source": [
    "fgpumd.close()\n",
    "fxyz.close()"
   ]
  }
 ],
 "metadata": {
  "celltoolbar": "Raw Cell Format",
  "kernelspec": {
   "display_name": "Python 3",
   "language": "python",
   "name": "python3"
  },
  "language_info": {
   "codemirror_mode": {
    "name": "ipython",
    "version": 3
   },
   "file_extension": ".py",
   "mimetype": "text/x-python",
   "name": "python",
   "nbconvert_exporter": "python",
   "pygments_lexer": "ipython3",
   "version": "3.6.8"
  }
 },
 "nbformat": 4,
 "nbformat_minor": 2
}
